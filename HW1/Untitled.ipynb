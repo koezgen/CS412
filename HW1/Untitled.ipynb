{
 "cells": [
  {
   "cell_type": "markdown",
   "id": "8c3c8d98",
   "metadata": {},
   "source": [
    "# CS 412 - Machine Learning Course Spring 2024 HW1\n",
    "## Kanat Özgen 00030973"
   ]
  },
  {
   "cell_type": "code",
   "execution_count": null,
   "id": "207f1080",
   "metadata": {},
   "outputs": [],
   "source": []
  }
 ],
 "metadata": {
  "kernelspec": {
   "display_name": "Python 3 (ipykernel)",
   "language": "python",
   "name": "python3"
  },
  "language_info": {
   "codemirror_mode": {
    "name": "ipython",
    "version": 3
   },
   "file_extension": ".py",
   "mimetype": "text/x-python",
   "name": "python",
   "nbconvert_exporter": "python",
   "pygments_lexer": "ipython3",
   "version": "3.11.5"
  }
 },
 "nbformat": 4,
 "nbformat_minor": 5
}
