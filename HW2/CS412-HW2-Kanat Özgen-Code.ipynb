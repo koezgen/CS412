{
 "cells": [
  {
   "cell_type": "markdown",
   "id": "a3c41a44",
   "metadata": {},
   "source": [
    "## CS412 Machine Learning HW-2 Kanat Özgen 00030973"
   ]
  },
  {
   "cell_type": "code",
   "execution_count": 1,
   "id": "89c19ecf",
   "metadata": {},
   "outputs": [
    {
     "data": {
      "text/latex": [
       "$\\displaystyle \\text{I Love }\\LaTeX$"
      ],
      "text/plain": [
       "<IPython.core.display.Math object>"
      ]
     },
     "metadata": {},
     "output_type": "display_data"
    }
   ],
   "source": [
    "import pandas as pd\n",
    "import numpy as np\n",
    "from IPython.display import display, Math, Latex\n",
    "display(Math(r'\\text{I Love }\\LaTeX'))"
   ]
  },
  {
   "cell_type": "code",
   "execution_count": 2,
   "id": "eb6e3c6c",
   "metadata": {
    "scrolled": false
   },
   "outputs": [
    {
     "name": "stderr",
     "output_type": "stream",
     "text": [
      "C:\\Users\\koezgen\\AppData\\Local\\Temp\\ipykernel_27552\\3948734810.py:2: DtypeWarning: Columns (5,17,21,38,50) have mixed types. Specify dtype option on import or set low_memory=False.\n",
      "  df_freeFormResp = pd.read_csv(\"freeFormResponses.csv\")\n",
      "C:\\Users\\koezgen\\AppData\\Local\\Temp\\ipykernel_27552\\3948734810.py:3: DtypeWarning: Columns (31,83,86,87,98,99,109,116,123,124,127,129,130,164) have mixed types. Specify dtype option on import or set low_memory=False.\n",
      "  df_multChoiceResp = pd.read_csv(\"multipleChoiceResponses.csv\", encoding='latin-1')\n"
     ]
    }
   ],
   "source": [
    "df_convRates = pd.read_csv(\"conversionRates.csv\")\n",
    "df_freeFormResp = pd.read_csv(\"freeFormResponses.csv\")\n",
    "df_multChoiceResp = pd.read_csv(\"multipleChoiceResponses.csv\", encoding='latin-1')\n",
    "df_schema = pd.read_csv(\"schema.csv\")"
   ]
  },
  {
   "cell_type": "code",
   "execution_count": 3,
   "id": "83a464b9",
   "metadata": {},
   "outputs": [
    {
     "data": {
      "text/html": [
       "<div>\n",
       "<style scoped>\n",
       "    .dataframe tbody tr th:only-of-type {\n",
       "        vertical-align: middle;\n",
       "    }\n",
       "\n",
       "    .dataframe tbody tr th {\n",
       "        vertical-align: top;\n",
       "    }\n",
       "\n",
       "    .dataframe thead th {\n",
       "        text-align: right;\n",
       "    }\n",
       "</style>\n",
       "<table border=\"1\" class=\"dataframe\">\n",
       "  <thead>\n",
       "    <tr style=\"text-align: right;\">\n",
       "      <th></th>\n",
       "      <th>Unnamed: 0</th>\n",
       "      <th>originCountry</th>\n",
       "      <th>exchangeRate</th>\n",
       "    </tr>\n",
       "  </thead>\n",
       "  <tbody>\n",
       "    <tr>\n",
       "      <th>0</th>\n",
       "      <td>1</td>\n",
       "      <td>USD</td>\n",
       "      <td>1.000000</td>\n",
       "    </tr>\n",
       "    <tr>\n",
       "      <th>1</th>\n",
       "      <td>2</td>\n",
       "      <td>EUR</td>\n",
       "      <td>1.195826</td>\n",
       "    </tr>\n",
       "    <tr>\n",
       "      <th>2</th>\n",
       "      <td>3</td>\n",
       "      <td>INR</td>\n",
       "      <td>0.015620</td>\n",
       "    </tr>\n",
       "    <tr>\n",
       "      <th>3</th>\n",
       "      <td>4</td>\n",
       "      <td>GBP</td>\n",
       "      <td>1.324188</td>\n",
       "    </tr>\n",
       "    <tr>\n",
       "      <th>4</th>\n",
       "      <td>5</td>\n",
       "      <td>BRL</td>\n",
       "      <td>0.321350</td>\n",
       "    </tr>\n",
       "    <tr>\n",
       "      <th>5</th>\n",
       "      <td>6</td>\n",
       "      <td>RUB</td>\n",
       "      <td>0.017402</td>\n",
       "    </tr>\n",
       "    <tr>\n",
       "      <th>6</th>\n",
       "      <td>7</td>\n",
       "      <td>CAD</td>\n",
       "      <td>0.823688</td>\n",
       "    </tr>\n",
       "    <tr>\n",
       "      <th>7</th>\n",
       "      <td>8</td>\n",
       "      <td>AUD</td>\n",
       "      <td>0.802310</td>\n",
       "    </tr>\n",
       "    <tr>\n",
       "      <th>8</th>\n",
       "      <td>9</td>\n",
       "      <td>JPY</td>\n",
       "      <td>0.009108</td>\n",
       "    </tr>\n",
       "    <tr>\n",
       "      <th>9</th>\n",
       "      <td>10</td>\n",
       "      <td>CNY</td>\n",
       "      <td>0.153000</td>\n",
       "    </tr>\n",
       "  </tbody>\n",
       "</table>\n",
       "</div>"
      ],
      "text/plain": [
       "   Unnamed: 0 originCountry  exchangeRate\n",
       "0           1           USD      1.000000\n",
       "1           2           EUR      1.195826\n",
       "2           3           INR      0.015620\n",
       "3           4           GBP      1.324188\n",
       "4           5           BRL      0.321350\n",
       "5           6           RUB      0.017402\n",
       "6           7           CAD      0.823688\n",
       "7           8           AUD      0.802310\n",
       "8           9           JPY      0.009108\n",
       "9          10           CNY      0.153000"
      ]
     },
     "execution_count": 3,
     "metadata": {},
     "output_type": "execute_result"
    }
   ],
   "source": [
    "df_convRates.head(10)"
   ]
  },
  {
   "cell_type": "code",
   "execution_count": 4,
   "id": "5ead9d07",
   "metadata": {},
   "outputs": [],
   "source": [
    "pd.set_option('display.max_columns', None)"
   ]
  },
  {
   "cell_type": "code",
   "execution_count": 5,
   "id": "2e18663b",
   "metadata": {},
   "outputs": [],
   "source": [
    "def convert_compensation(comp):\n",
    "    try:\n",
    "        return float(comp.replace(',', ''))\n",
    "    except:\n",
    "        return np.nan"
   ]
  },
  {
   "cell_type": "code",
   "execution_count": 6,
   "id": "bb18c177",
   "metadata": {},
   "outputs": [
    {
     "name": "stdout",
     "output_type": "stream",
     "text": [
      "Missing exchange rates for currencies: ['USD']\n"
     ]
    }
   ],
   "source": [
    "def convertToUSD(df, df_convRates):\n",
    "    # Work on a copy to avoid modifying the original DataFrame\n",
    "    df_copy = df.copy()\n",
    "\n",
    "    # Convert 'CompensationAmount' to float\n",
    "    df_copy['CompensationAmount'] = df_copy['CompensationAmount'].apply(convert_compensation)\n",
    "\n",
    "    # Merge the conversion rates into the copy DataFrame\n",
    "    merged_df = df_copy.merge(df_convRates, left_on='CompensationCurrency', right_on='originCountry', how='left')\n",
    "\n",
    "    # Identify rows with valid exchange rates and not in USD\n",
    "    valid_exchange_condition = (merged_df['CompensationCurrency'] != 'USD') & (~merged_df['exchangeRate'].isna())\n",
    "\n",
    "    # Apply the conversion to USD only for valid exchange rates\n",
    "    merged_df.loc[valid_exchange_condition, 'CompensationAmount'] *= merged_df.loc[valid_exchange_condition, 'exchangeRate']\n",
    "\n",
    "    # Set 'CompensationCurrency' to 'USD' for these rows\n",
    "    merged_df.loc[valid_exchange_condition, 'CompensationCurrency'] = 'USD'\n",
    "\n",
    "    # Handle rows where the exchange rate was not found\n",
    "    missing_rates = merged_df[~valid_exchange_condition & (~merged_df['exchangeRate'].isna())]\n",
    "    if not missing_rates.empty:\n",
    "        print(\"Missing exchange rates for currencies:\", missing_rates['CompensationCurrency'].unique())\n",
    "\n",
    "    # Drop the extra columns from the merge\n",
    "    merged_df.drop(['originCountry', 'exchangeRate'], axis=1, inplace=True)\n",
    "\n",
    "    return merged_df\n",
    "\n",
    "# Apply the conversion function\n",
    "df_multChoiceResp = convertToUSD(df_multChoiceResp, df_convRates)"
   ]
  },
  {
   "cell_type": "code",
   "execution_count": 7,
   "id": "bfa9c3ef",
   "metadata": {},
   "outputs": [
    {
     "data": {
      "text/html": [
       "<div>\n",
       "<style scoped>\n",
       "    .dataframe tbody tr th:only-of-type {\n",
       "        vertical-align: middle;\n",
       "    }\n",
       "\n",
       "    .dataframe tbody tr th {\n",
       "        vertical-align: top;\n",
       "    }\n",
       "\n",
       "    .dataframe thead th {\n",
       "        text-align: right;\n",
       "    }\n",
       "</style>\n",
       "<table border=\"1\" class=\"dataframe\">\n",
       "  <thead>\n",
       "    <tr style=\"text-align: right;\">\n",
       "      <th></th>\n",
       "      <th>CompensationAmount</th>\n",
       "      <th>CompensationCurrency</th>\n",
       "    </tr>\n",
       "  </thead>\n",
       "  <tbody>\n",
       "    <tr>\n",
       "      <th>0</th>\n",
       "      <td>NaN</td>\n",
       "      <td>NaN</td>\n",
       "    </tr>\n",
       "    <tr>\n",
       "      <th>1</th>\n",
       "      <td>NaN</td>\n",
       "      <td>NaN</td>\n",
       "    </tr>\n",
       "    <tr>\n",
       "      <th>2</th>\n",
       "      <td>NaN</td>\n",
       "      <td>NaN</td>\n",
       "    </tr>\n",
       "    <tr>\n",
       "      <th>3</th>\n",
       "      <td>250000.0</td>\n",
       "      <td>USD</td>\n",
       "    </tr>\n",
       "    <tr>\n",
       "      <th>4</th>\n",
       "      <td>NaN</td>\n",
       "      <td>NaN</td>\n",
       "    </tr>\n",
       "    <tr>\n",
       "      <th>5</th>\n",
       "      <td>NaN</td>\n",
       "      <td>NaN</td>\n",
       "    </tr>\n",
       "    <tr>\n",
       "      <th>6</th>\n",
       "      <td>NaN</td>\n",
       "      <td>NaN</td>\n",
       "    </tr>\n",
       "    <tr>\n",
       "      <th>7</th>\n",
       "      <td>NaN</td>\n",
       "      <td>NaN</td>\n",
       "    </tr>\n",
       "    <tr>\n",
       "      <th>8</th>\n",
       "      <td>64184.8</td>\n",
       "      <td>USD</td>\n",
       "    </tr>\n",
       "    <tr>\n",
       "      <th>9</th>\n",
       "      <td>20882.4</td>\n",
       "      <td>USD</td>\n",
       "    </tr>\n",
       "  </tbody>\n",
       "</table>\n",
       "</div>"
      ],
      "text/plain": [
       "   CompensationAmount CompensationCurrency\n",
       "0                 NaN                  NaN\n",
       "1                 NaN                  NaN\n",
       "2                 NaN                  NaN\n",
       "3            250000.0                  USD\n",
       "4                 NaN                  NaN\n",
       "5                 NaN                  NaN\n",
       "6                 NaN                  NaN\n",
       "7                 NaN                  NaN\n",
       "8             64184.8                  USD\n",
       "9             20882.4                  USD"
      ]
     },
     "execution_count": 7,
     "metadata": {},
     "output_type": "execute_result"
    }
   ],
   "source": [
    "df_multChoiceResp[['CompensationAmount', 'CompensationCurrency']].head(10)"
   ]
  },
  {
   "cell_type": "code",
   "execution_count": 8,
   "id": "a883fd5b",
   "metadata": {},
   "outputs": [
    {
     "data": {
      "text/plain": [
       "array(['Management information systems', 'Computer Science',\n",
       "       'Engineering (non-computer focused)', 'Mathematics or statistics',\n",
       "       'Electrical Engineering', nan, 'Other', 'Biology', 'Physics',\n",
       "       'Information technology, networking, or system administration',\n",
       "       'A social science', 'A health science', 'A humanities discipline',\n",
       "       'Fine arts or performing arts', 'I never declared a major',\n",
       "       'Psychology'], dtype=object)"
      ]
     },
     "execution_count": 8,
     "metadata": {},
     "output_type": "execute_result"
    }
   ],
   "source": [
    "df_multChoiceResp[\"MajorSelect\"].unique()"
   ]
  },
  {
   "cell_type": "code",
   "execution_count": 9,
   "id": "fd2dba05",
   "metadata": {},
   "outputs": [
    {
     "data": {
      "text/plain": [
       "array([\"Bachelor's degree\", \"Master's degree\", 'Doctoral degree', nan,\n",
       "       \"Some college/university study without earning a bachelor's degree\",\n",
       "       'I did not complete any formal education past high school',\n",
       "       'Professional degree', 'I prefer not to answer'], dtype=object)"
      ]
     },
     "execution_count": 9,
     "metadata": {},
     "output_type": "execute_result"
    }
   ],
   "source": [
    "df_multChoiceResp[\"FormalEducation\"].unique()"
   ]
  },
  {
   "cell_type": "markdown",
   "id": "60b0ed1e",
   "metadata": {},
   "source": [
    "### 2.a What is the probability that a respondent is currently employed as a Programmer given they use C/C++ at work?"
   ]
  },
  {
   "cell_type": "code",
   "execution_count": 10,
   "id": "688296a0",
   "metadata": {},
   "outputs": [
    {
     "name": "stdout",
     "output_type": "stream",
     "text": [
      "0.02225130890052356\n"
     ]
    }
   ],
   "source": [
    "df_cpp = df_multChoiceResp[df_multChoiceResp[\"WorkToolsSelect\"].apply(lambda x: \"C/C++\" in x if not pd.isna(x) else False)]\n",
    "df_cpp_programmer = df_cpp[df_cpp[\"CurrentJobTitleSelect\"] == \"Programmer\"]\n",
    "print(df_cpp_programmer.shape[0]/df_cpp.shape[0])"
   ]
  },
  {
   "cell_type": "markdown",
   "id": "c0054531",
   "metadata": {},
   "source": [
    "### 2.b What is the probability that a respondent is a Data Scientist given they have majored in computer science, mathematics or statistics?"
   ]
  },
  {
   "cell_type": "code",
   "execution_count": 11,
   "id": "fa55660e",
   "metadata": {},
   "outputs": [
    {
     "name": "stdout",
     "output_type": "stream",
     "text": [
      "0.1597400634728729\n"
     ]
    }
   ],
   "source": [
    "df_cs = df_multChoiceResp[df_multChoiceResp[\"MajorSelect\"].isin([\"Computer Science\", \"Mathematics or statistics\"])]\n",
    "df_ds = df_cs[df_cs[\"CurrentJobTitleSelect\"] == \"Data Scientist\"]\n",
    "print(df_ds.shape[0]/df_cs.shape[0])"
   ]
  },
  {
   "cell_type": "markdown",
   "id": "7d7eaf56",
   "metadata": {},
   "source": [
    "### 2.c What is the probability that a respondent works in the Technology industry given that they earn more than 40,000 USD annually?"
   ]
  },
  {
   "cell_type": "code",
   "execution_count": 12,
   "id": "13995c63",
   "metadata": {
    "scrolled": true
   },
   "outputs": [
    {
     "name": "stdout",
     "output_type": "stream",
     "text": [
      "0.1966501240694789\n"
     ]
    }
   ],
   "source": [
    "df_fortyk = df_multChoiceResp[df_multChoiceResp[\"CompensationAmount\"] > 40000.0]\n",
    "\n",
    "df_tech = df_fortyk[df_fortyk[\"EmployerIndustry\"] == \"Technology\"]\n",
    "print(df_tech.shape[0] / df_fortyk.shape[0])"
   ]
  },
  {
   "cell_type": "markdown",
   "id": "9b627b0c",
   "metadata": {},
   "source": [
    "### 2.d What is the joint probability of a respondent being over 30 years old and having a at least a Bachelor’s degree?"
   ]
  },
  {
   "cell_type": "code",
   "execution_count": 13,
   "id": "07065b55",
   "metadata": {},
   "outputs": [
    {
     "name": "stdout",
     "output_type": "stream",
     "text": [
      "0.38687485044268966\n"
     ]
    }
   ],
   "source": [
    "df_age = df_multChoiceResp[df_multChoiceResp[\"Age\"].apply(lambda x: x > 30)]\n",
    "df_bsc = df_age[df_age[\"FormalEducation\"].isin([\"Bachelor's degree\", \"Master's degree\", \"Doctoral degree\", \"Professional degree\"])]\n",
    "\n",
    "print(df_bsc.shape[0] / df_multChoiceResp.shape[0])"
   ]
  },
  {
   "cell_type": "markdown",
   "id": "59abd90e",
   "metadata": {},
   "source": [
    "### 2.e What is the probability that a respondent is a Data Scientist who majored in Computer Science, Mathematics or statistics?"
   ]
  },
  {
   "cell_type": "code",
   "execution_count": 14,
   "id": "d4796f69",
   "metadata": {},
   "outputs": [
    {
     "name": "stdout",
     "output_type": "stream",
     "text": [
      "0.06323283082077052\n"
     ]
    }
   ],
   "source": [
    "df_ds = df_multChoiceResp[df_multChoiceResp[\"CurrentJobTitleSelect\"] == \"Data Scientist\"]\n",
    "df_cs = df_ds[df_ds[\"MajorSelect\"].isin([\"Computer Science\", \"Mathematics or statistics\"])]\n",
    "\n",
    "print(df_cs.shape[0] / df_multChoiceResp.shape[0])"
   ]
  },
  {
   "cell_type": "markdown",
   "id": "60d36cfb",
   "metadata": {},
   "source": [
    "### 2.f What is the joint probability that a respondent is from France, earns less than 100,000 USD annually, and uses Cross-Validation Often or Most of the time?"
   ]
  },
  {
   "cell_type": "code",
   "execution_count": 15,
   "id": "fe68b7d6",
   "metadata": {},
   "outputs": [
    {
     "name": "stdout",
     "output_type": "stream",
     "text": [
      "0.005144771476429768\n"
     ]
    }
   ],
   "source": [
    "df_fr = df_multChoiceResp[df_multChoiceResp[\"Country\"] == \"France\"]\n",
    "df_fr = df_fr[df_fr[\"CompensationAmount\"] < 100000.0]\n",
    "df_fr = df_fr[df_fr[\"WorkMethodsFrequencyCross-Validation\"].isin([\"Often\", \"Most of the time\"])]\n",
    "\n",
    "print(df_fr.shape[0] / df_multChoiceResp.shape[0])"
   ]
  },
  {
   "cell_type": "markdown",
   "id": "aeda50d0",
   "metadata": {},
   "source": [
    "### 2.g What is the probability that a respondent uses C/C++ at work given that they are employed as a Programmer? (Hint: Use your findings from Question 2a)."
   ]
  },
  {
   "cell_type": "code",
   "execution_count": 17,
   "id": "57afcb75",
   "metadata": {},
   "outputs": [
    {
     "data": {
      "text/latex": [
       "$\\displaystyle P(Y = UseCpp | X = Employed) = \\frac{P(X = Employed | Y = UseCpp) \\cdot P(Y = UseCpp)}{P(X = Employed)}$"
      ],
      "text/plain": [
       "<IPython.core.display.Math object>"
      ]
     },
     "metadata": {},
     "output_type": "display_data"
    }
   ],
   "source": [
    "display(Math(r'P(Y = UseCpp | X = Employed) = \\frac{P(X = Employed | Y = UseCpp) \\cdot P(Y = UseCpp)}{P(X = Employed)}'))"
   ]
  },
  {
   "cell_type": "code",
   "execution_count": 18,
   "id": "a1b17647",
   "metadata": {},
   "outputs": [
    {
     "name": "stdout",
     "output_type": "stream",
     "text": [
      "0.07359307359307359\n"
     ]
    }
   ],
   "source": [
    "df_programmer = df_multChoiceResp[df_multChoiceResp[\"CurrentJobTitleSelect\"] == \"Programmer\"]\n",
    "print((df_cpp_programmer.shape[0]/df_cpp.shape[0]) * (df_cpp.shape[0]/df_multChoiceResp.shape[0]) / (df_programmer.shape[0]/df_multChoiceResp.shape[0]))"
   ]
  },
  {
   "cell_type": "markdown",
   "id": "5c475efe",
   "metadata": {},
   "source": [
    "### 2.h Given the probability of a respondent wearing glasses is 0.15, and the probability of a respondent wearing glasses given they have a PhD is 0.25, find the probability of a respondent having a PhD given that they wear glasses."
   ]
  },
  {
   "cell_type": "code",
   "execution_count": 19,
   "id": "43b7d42b",
   "metadata": {},
   "outputs": [
    {
     "data": {
      "text/latex": [
       "$\\displaystyle P(Y = PhD | X = Glasses) = \\frac{P(X = Glasses | Y = PhD) \\cdot P(Y = PhD)}{P(X = Glasses)} \\\\ \\\\ \\frac{P(X = Glasses | Y = PhD)}{P(X = Glasses)} = 0.25/0.15 = 1.67 \\\\ \\\\ P(Y = PhD | X = Glasses) = 1.67 \\cdot P(Y = PhD)$"
      ],
      "text/plain": [
       "<IPython.core.display.Math object>"
      ]
     },
     "metadata": {},
     "output_type": "display_data"
    }
   ],
   "source": [
    "display(Math(r'P(Y = PhD | X = Glasses) = \\frac{P(X = Glasses | Y = PhD) \\cdot P(Y = PhD)}{P(X = Glasses)} \\\\ \\\\ \\frac{P(X = Glasses | Y = PhD)}{P(X = Glasses)} = 0.25/0.15 = 1.67 \\\\ \\\\ P(Y = PhD | X = Glasses) = 1.67 \\cdot P(Y = PhD)'))"
   ]
  },
  {
   "cell_type": "code",
   "execution_count": 20,
   "id": "458114bc",
   "metadata": {},
   "outputs": [
    {
     "name": "stdout",
     "output_type": "stream",
     "text": [
      "0.23447535295525246\n"
     ]
    }
   ],
   "source": [
    "df_phd = df_multChoiceResp[df_multChoiceResp[\"FormalEducation\"] == \"Doctoral degree\"]\n",
    "print(1.67 * (df_phd.shape[0]/df_multChoiceResp.shape[0]))"
   ]
  }
 ],
 "metadata": {
  "kernelspec": {
   "display_name": "Python 3 (ipykernel)",
   "language": "python",
   "name": "python3"
  },
  "language_info": {
   "codemirror_mode": {
    "name": "ipython",
    "version": 3
   },
   "file_extension": ".py",
   "mimetype": "text/x-python",
   "name": "python",
   "nbconvert_exporter": "python",
   "pygments_lexer": "ipython3",
   "version": "3.10.9"
  }
 },
 "nbformat": 4,
 "nbformat_minor": 5
}
